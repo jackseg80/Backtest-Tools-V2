{
 "cells": [
  {
   "cell_type": "code",
   "execution_count": 2,
   "metadata": {},
   "outputs": [
    {
     "name": "stdout",
     "output_type": "stream",
     "text": [
      "1.13 ms ± 7 µs per loop (mean ± std. dev. of 7 runs, 1,000 loops each)\n"
     ]
    }
   ],
   "source": [
    "import numpy as np\n",
    "\n",
    "def f(arr):\n",
    "  res=np.zeros(len(arr))\n",
    "   \n",
    "  for i in range(len(arr)):\n",
    "     res[i]=(arr[i])**2\n",
    "    \n",
    "  return res\n",
    "\n",
    "arr=np.random.rand(10000)\n",
    "%timeit f(arr)"
   ]
  },
  {
   "cell_type": "code",
   "execution_count": 4,
   "metadata": {},
   "outputs": [
    {
     "ename": "SyntaxError",
     "evalue": "invalid syntax (3665751003.py, line 5)",
     "output_type": "error",
     "traceback": [
      "\u001b[1;36m  Cell \u001b[1;32mIn[4], line 5\u001b[1;36m\u001b[0m\n\u001b[1;33m    cimport numpy as np\u001b[0m\n\u001b[1;37m            ^\u001b[0m\n\u001b[1;31mSyntaxError\u001b[0m\u001b[1;31m:\u001b[0m invalid syntax\n"
     ]
    }
   ],
   "source": [
    "%load_ext cython\n",
    "%%cython\n",
    "\n",
    "import numpy as np\n",
    "cimport numpy as np\n",
    "cimport cython\n",
    "from libc.math cimport pow\n",
    "\n",
    "#@cython.boundscheck(False)\n",
    "#@cython.wraparound(False)\n",
    "\n",
    "cpdef f(double[:] arr):\n",
    "   cdef np.ndarray[dtype=np.double_t, ndim=1] res\n",
    "   res=np.zeros(len(arr),dtype=np.double)\n",
    "   cdef double[:] res_view=res\n",
    "   cdef int i\n",
    "\n",
    "   for i in range(len(arr)):\n",
    "      res_view[i]=pow(arr[i],2)\n",
    "    \n",
    "   return res\n",
    "\n",
    "arr=np.random.rand(10000)\n",
    "%timeit f(arr)"
   ]
  },
  {
   "cell_type": "code",
   "execution_count": 4,
   "metadata": {},
   "outputs": [
    {
     "ename": "ModuleNotFoundError",
     "evalue": "No module named 'numba'",
     "output_type": "error",
     "traceback": [
      "\u001b[1;31m---------------------------------------------------------------------------\u001b[0m",
      "\u001b[1;31mModuleNotFoundError\u001b[0m                       Traceback (most recent call last)",
      "Cell \u001b[1;32mIn[4], line 2\u001b[0m\n\u001b[0;32m      1\u001b[0m \u001b[38;5;28;01mimport\u001b[39;00m \u001b[38;5;21;01mnumpy\u001b[39;00m \u001b[38;5;28;01mas\u001b[39;00m \u001b[38;5;21;01mnp\u001b[39;00m\n\u001b[1;32m----> 2\u001b[0m \u001b[38;5;28;01mimport\u001b[39;00m \u001b[38;5;21;01mnumba\u001b[39;00m \u001b[38;5;28;01mas\u001b[39;00m \u001b[38;5;21;01mnb\u001b[39;00m\n\u001b[0;32m      4\u001b[0m \u001b[38;5;129m@nb\u001b[39m\u001b[38;5;241m.\u001b[39mjit(nb\u001b[38;5;241m.\u001b[39mfloat64[:](nb\u001b[38;5;241m.\u001b[39mfloat64[:]))\n\u001b[0;32m      5\u001b[0m \u001b[38;5;28;01mdef\u001b[39;00m   \u001b[38;5;21mf\u001b[39m(arr):\n\u001b[0;32m      6\u001b[0m    res\u001b[38;5;241m=\u001b[39mnp\u001b[38;5;241m.\u001b[39mzeros(\u001b[38;5;28mlen\u001b[39m(arr))\n",
      "\u001b[1;31mModuleNotFoundError\u001b[0m: No module named 'numba'"
     ]
    }
   ],
   "source": [
    "import numpy as np\n",
    "import numba as nb\n",
    "\n",
    "@nb.jit(nb.float64[:](nb.float64[:]))\n",
    "def   f(arr):\n",
    "   res=np.zeros(len(arr))\n",
    "   \n",
    "   for i in range(len(arr)):\n",
    "       res[i]=(arr[i])**2\n",
    "    \n",
    "   return res\n",
    "\n",
    "arr=np.random.rand(10000)\n",
    "%timeit f(arr)"
   ]
  }
 ],
 "metadata": {
  "kernelspec": {
   "display_name": ".venv",
   "language": "python",
   "name": "python3"
  },
  "language_info": {
   "codemirror_mode": {
    "name": "ipython",
    "version": 3
   },
   "file_extension": ".py",
   "mimetype": "text/x-python",
   "name": "python",
   "nbconvert_exporter": "python",
   "pygments_lexer": "ipython3",
   "version": "3.12.1"
  }
 },
 "nbformat": 4,
 "nbformat_minor": 2
}

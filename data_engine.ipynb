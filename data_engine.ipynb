{
 "cells": [
  {
   "cell_type": "code",
   "execution_count": 1,
   "metadata": {},
   "outputs": [],
   "source": [
    "import sys\n",
    "sys.path.append('./')\n",
    "from utilities.data_manager import ExchangeDataManager\n",
    "import pandas as pd"
   ]
  },
  {
   "cell_type": "markdown",
   "metadata": {},
   "source": [
    "# Download Historical data into CSV in Database"
   ]
  },
  {
   "cell_type": "code",
   "execution_count": 2,
   "metadata": {},
   "outputs": [
    {
     "name": "stdout",
     "output_type": "stream",
     "text": [
      "\tRécupération pour la paire BTC/USDT:USDT en timeframe 1h sur l'exchange bitget...\n"
     ]
    },
    {
     "data": {
      "application/vnd.jupyter.widget-view+json": {
       "model_id": "ddd692ea6f3d4002ae33df4d89c6ae60",
       "version_major": 2,
       "version_minor": 0
      },
      "text/plain": [
       "  0%|          | 0/1 [00:00<?, ?it/s]"
      ]
     },
     "metadata": {},
     "output_type": "display_data"
    },
    {
     "name": "stdout",
     "output_type": "stream",
     "text": [
      "\u001b[H\u001b[J\tRécupération pour la paire ETH/USDT:USDT en timeframe 1h sur l'exchange bitget...\n"
     ]
    },
    {
     "data": {
      "application/vnd.jupyter.widget-view+json": {
       "model_id": "f9b6504505294de69e8fb3c9014d7cfb",
       "version_major": 2,
       "version_minor": 0
      },
      "text/plain": [
       "  0%|          | 0/1 [00:00<?, ?it/s]"
      ]
     },
     "metadata": {},
     "output_type": "display_data"
    },
    {
     "name": "stdout",
     "output_type": "stream",
     "text": [
      "\u001b[H\u001b[J\tRécupération pour la paire ADA/USDT:USDT en timeframe 1h sur l'exchange bitget...\n"
     ]
    },
    {
     "data": {
      "application/vnd.jupyter.widget-view+json": {
       "model_id": "b8eb32f768634d039cb97e0bb579c6f3",
       "version_major": 2,
       "version_minor": 0
      },
      "text/plain": [
       "  0%|          | 0/1 [00:00<?, ?it/s]"
      ]
     },
     "metadata": {},
     "output_type": "display_data"
    },
    {
     "name": "stdout",
     "output_type": "stream",
     "text": [
      "\u001b[H\u001b[J\tRécupération pour la paire AVAX/USDT:USDT en timeframe 1h sur l'exchange bitget...\n"
     ]
    },
    {
     "data": {
      "application/vnd.jupyter.widget-view+json": {
       "model_id": "bfd47a5122064ed6834f51373561a244",
       "version_major": 2,
       "version_minor": 0
      },
      "text/plain": [
       "  0%|          | 0/1 [00:00<?, ?it/s]"
      ]
     },
     "metadata": {},
     "output_type": "display_data"
    },
    {
     "name": "stdout",
     "output_type": "stream",
     "text": [
      "\u001b[H\u001b[J\tRécupération pour la paire EGLD/USDT:USDT en timeframe 1h sur l'exchange bitget...\n"
     ]
    },
    {
     "data": {
      "application/vnd.jupyter.widget-view+json": {
       "model_id": "6185c5058d6b4e75b438aebfd4e3de9d",
       "version_major": 2,
       "version_minor": 0
      },
      "text/plain": [
       "  0%|          | 0/1 [00:00<?, ?it/s]"
      ]
     },
     "metadata": {},
     "output_type": "display_data"
    },
    {
     "name": "stdout",
     "output_type": "stream",
     "text": [
      "\u001b[H\u001b[J\tRécupération pour la paire KSM/USDT:USDT en timeframe 1h sur l'exchange bitget...\n"
     ]
    },
    {
     "data": {
      "application/vnd.jupyter.widget-view+json": {
       "model_id": "0cbf132e4a98446399bcdd12d3f5cf6e",
       "version_major": 2,
       "version_minor": 0
      },
      "text/plain": [
       "  0%|          | 0/1 [00:00<?, ?it/s]"
      ]
     },
     "metadata": {},
     "output_type": "display_data"
    },
    {
     "name": "stdout",
     "output_type": "stream",
     "text": [
      "\u001b[H\u001b[J\tRécupération pour la paire OCEAN/USDT:USDT en timeframe 1h sur l'exchange bitget...\n"
     ]
    },
    {
     "data": {
      "application/vnd.jupyter.widget-view+json": {
       "model_id": "9e675db2ea8f4404bd7ccc4d941180de",
       "version_major": 2,
       "version_minor": 0
      },
      "text/plain": [
       "  0%|          | 0/1 [00:00<?, ?it/s]"
      ]
     },
     "metadata": {},
     "output_type": "display_data"
    },
    {
     "name": "stdout",
     "output_type": "stream",
     "text": [
      "\u001b[H\u001b[J\tRécupération pour la paire REN/USDT:USDT en timeframe 1h sur l'exchange bitget...\n"
     ]
    },
    {
     "data": {
      "application/vnd.jupyter.widget-view+json": {
       "model_id": "f6eb1efd0649468581a694ebb7f39d52",
       "version_major": 2,
       "version_minor": 0
      },
      "text/plain": [
       "  0%|          | 0/1 [00:00<?, ?it/s]"
      ]
     },
     "metadata": {},
     "output_type": "display_data"
    },
    {
     "name": "stdout",
     "output_type": "stream",
     "text": [
      "\u001b[H\u001b[J\tRécupération pour la paire ACH/USDT:USDT en timeframe 1h sur l'exchange bitget...\n"
     ]
    },
    {
     "data": {
      "application/vnd.jupyter.widget-view+json": {
       "model_id": "5ac8392f207a4d689ca9d9429d034bdc",
       "version_major": 2,
       "version_minor": 0
      },
      "text/plain": [
       "  0%|          | 0/1 [00:00<?, ?it/s]"
      ]
     },
     "metadata": {},
     "output_type": "display_data"
    },
    {
     "name": "stdout",
     "output_type": "stream",
     "text": [
      "\u001b[H\u001b[J\tRécupération pour la paire APE/USDT:USDT en timeframe 1h sur l'exchange bitget...\n"
     ]
    },
    {
     "data": {
      "application/vnd.jupyter.widget-view+json": {
       "model_id": "b4e14caf394e40f8817598bc6a650f36",
       "version_major": 2,
       "version_minor": 0
      },
      "text/plain": [
       "  0%|          | 0/1 [00:00<?, ?it/s]"
      ]
     },
     "metadata": {},
     "output_type": "display_data"
    },
    {
     "name": "stdout",
     "output_type": "stream",
     "text": [
      "\u001b[H\u001b[J\tRécupération pour la paire CRV/USDT:USDT en timeframe 1h sur l'exchange bitget...\n"
     ]
    },
    {
     "data": {
      "application/vnd.jupyter.widget-view+json": {
       "model_id": "84febf27633f45afa1f8fc6a0f4ab699",
       "version_major": 2,
       "version_minor": 0
      },
      "text/plain": [
       "  0%|          | 0/1 [00:00<?, ?it/s]"
      ]
     },
     "metadata": {},
     "output_type": "display_data"
    },
    {
     "name": "stdout",
     "output_type": "stream",
     "text": [
      "\u001b[H\u001b[J\tRécupération pour la paire DOGE/USDT:USDT en timeframe 1h sur l'exchange bitget...\n"
     ]
    },
    {
     "data": {
      "application/vnd.jupyter.widget-view+json": {
       "model_id": "d91390f286374b418ea69c84c415ba50",
       "version_major": 2,
       "version_minor": 0
      },
      "text/plain": [
       "  0%|          | 0/1 [00:00<?, ?it/s]"
      ]
     },
     "metadata": {},
     "output_type": "display_data"
    },
    {
     "name": "stdout",
     "output_type": "stream",
     "text": [
      "\u001b[H\u001b[J\tRécupération pour la paire ENJ/USDT:USDT en timeframe 1h sur l'exchange bitget...\n"
     ]
    },
    {
     "data": {
      "application/vnd.jupyter.widget-view+json": {
       "model_id": "fe2cda4368584c7d9c035b09422d0e19",
       "version_major": 2,
       "version_minor": 0
      },
      "text/plain": [
       "  0%|          | 0/1 [00:00<?, ?it/s]"
      ]
     },
     "metadata": {},
     "output_type": "display_data"
    },
    {
     "name": "stdout",
     "output_type": "stream",
     "text": [
      "\u001b[H\u001b[J\tRécupération pour la paire FET/USDT:USDT en timeframe 1h sur l'exchange bitget...\n"
     ]
    },
    {
     "data": {
      "application/vnd.jupyter.widget-view+json": {
       "model_id": "63871624b2034a5b800b7bc1740b3136",
       "version_major": 2,
       "version_minor": 0
      },
      "text/plain": [
       "  0%|          | 0/1 [00:00<?, ?it/s]"
      ]
     },
     "metadata": {},
     "output_type": "display_data"
    },
    {
     "name": "stdout",
     "output_type": "stream",
     "text": [
      "\u001b[H\u001b[J\tRécupération pour la paire ICP/USDT:USDT en timeframe 1h sur l'exchange bitget...\n"
     ]
    },
    {
     "data": {
      "application/vnd.jupyter.widget-view+json": {
       "model_id": "73e5f1eec02445f9ba8dda3143cea1d7",
       "version_major": 2,
       "version_minor": 0
      },
      "text/plain": [
       "  0%|          | 0/1 [00:00<?, ?it/s]"
      ]
     },
     "metadata": {},
     "output_type": "display_data"
    },
    {
     "name": "stdout",
     "output_type": "stream",
     "text": [
      "\u001b[H\u001b[J\tRécupération pour la paire IMX/USDT:USDT en timeframe 1h sur l'exchange bitget...\n"
     ]
    },
    {
     "data": {
      "application/vnd.jupyter.widget-view+json": {
       "model_id": "bc9514cbe9624ad3be7ff6a62bbb3cc0",
       "version_major": 2,
       "version_minor": 0
      },
      "text/plain": [
       "  0%|          | 0/1 [00:00<?, ?it/s]"
      ]
     },
     "metadata": {},
     "output_type": "display_data"
    },
    {
     "name": "stdout",
     "output_type": "stream",
     "text": [
      "\u001b[H\u001b[J\tRécupération pour la paire LDO/USDT:USDT en timeframe 1h sur l'exchange bitget...\n"
     ]
    },
    {
     "data": {
      "application/vnd.jupyter.widget-view+json": {
       "model_id": "a6f1767e2eb84e8cbd2db574b24f8d4d",
       "version_major": 2,
       "version_minor": 0
      },
      "text/plain": [
       "  0%|          | 0/1 [00:00<?, ?it/s]"
      ]
     },
     "metadata": {},
     "output_type": "display_data"
    },
    {
     "name": "stdout",
     "output_type": "stream",
     "text": [
      "\u001b[H\u001b[J\tRécupération pour la paire MAGIC/USDT:USDT en timeframe 1h sur l'exchange bitget...\n"
     ]
    },
    {
     "data": {
      "application/vnd.jupyter.widget-view+json": {
       "model_id": "8d8de36000154016b18007ffdf2a56ed",
       "version_major": 2,
       "version_minor": 0
      },
      "text/plain": [
       "  0%|          | 0/1 [00:00<?, ?it/s]"
      ]
     },
     "metadata": {},
     "output_type": "display_data"
    },
    {
     "name": "stdout",
     "output_type": "stream",
     "text": [
      "\u001b[H\u001b[J\tRécupération pour la paire REEF/USDT:USDT en timeframe 1h sur l'exchange bitget...\n"
     ]
    },
    {
     "data": {
      "application/vnd.jupyter.widget-view+json": {
       "model_id": "b7d32e5601df4e06825cf23996a984bf",
       "version_major": 2,
       "version_minor": 0
      },
      "text/plain": [
       "  0%|          | 0/1 [00:00<?, ?it/s]"
      ]
     },
     "metadata": {},
     "output_type": "display_data"
    },
    {
     "name": "stdout",
     "output_type": "stream",
     "text": [
      "\u001b[H\u001b[J\tRécupération pour la paire SAND/USDT:USDT en timeframe 1h sur l'exchange bitget...\n"
     ]
    },
    {
     "data": {
      "application/vnd.jupyter.widget-view+json": {
       "model_id": "78b2071256e94fbea27e549886a59655",
       "version_major": 2,
       "version_minor": 0
      },
      "text/plain": [
       "  0%|          | 0/1 [00:00<?, ?it/s]"
      ]
     },
     "metadata": {},
     "output_type": "display_data"
    },
    {
     "name": "stdout",
     "output_type": "stream",
     "text": [
      "\u001b[H\u001b[J\tRécupération pour la paire TRX/USDT:USDT en timeframe 1h sur l'exchange bitget...\n"
     ]
    },
    {
     "data": {
      "application/vnd.jupyter.widget-view+json": {
       "model_id": "a538c1ebffd84608a0ced18071b0fac8",
       "version_major": 2,
       "version_minor": 0
      },
      "text/plain": [
       "  0%|          | 0/1 [00:00<?, ?it/s]"
      ]
     },
     "metadata": {},
     "output_type": "display_data"
    },
    {
     "name": "stdout",
     "output_type": "stream",
     "text": [
      "\u001b[H\u001b[J\tRécupération pour la paire XTZ/USDT:USDT en timeframe 1h sur l'exchange bitget...\n"
     ]
    },
    {
     "data": {
      "application/vnd.jupyter.widget-view+json": {
       "model_id": "9c4499420f84486db3d16db29f665ad0",
       "version_major": 2,
       "version_minor": 0
      },
      "text/plain": [
       "  0%|          | 0/1 [00:00<?, ?it/s]"
      ]
     },
     "metadata": {},
     "output_type": "display_data"
    },
    {
     "name": "stdout",
     "output_type": "stream",
     "text": [
      "\u001b[H\u001b[J"
     ]
    }
   ],
   "source": [
    "exchange_name = \"bitget\"\n",
    "\n",
    "intervals = [\"1h\"]\n",
    "\n",
    "coin_to_dl = [\n",
    "    \"BTC/USDT:USDT\", \"ETH/USDT:USDT\", \"ADA/USDT:USDT\", \"AVAX/USDT:USDT\", \"EGLD/USDT:USDT\",\n",
    "    \"KSM/USDT:USDT\", \"OCEAN/USDT:USDT\", \"REN/USDT:USDT\", \"ACH/USDT:USDT\", \"APE/USDT:USDT\",\n",
    "    \"CRV/USDT:USDT\", \"DOGE/USDT:USDT\", \"ENJ/USDT:USDT\", \"FET/USDT:USDT\", \"ICP/USDT:USDT\",\n",
    "    \"IMX/USDT:USDT\", \"LDO/USDT:USDT\", \"MAGIC/USDT:USDT\", \"REEF/USDT:USDT\", \"SAND/USDT:USDT\",\n",
    "    \"TRX/USDT:USDT\",\"XTZ/USDT:USDT\",\n",
    "]\n",
    "\n",
    "exchange = ExchangeDataManager(\n",
    "    exchange_name=exchange_name, path_download=\"./database/exchanges\"\n",
    ")\n",
    "\n",
    "await exchange.download_data(\n",
    "    coins=coin_to_dl,\n",
    "    intervals=intervals,\n",
    ")"
   ]
  },
  {
   "cell_type": "markdown",
   "metadata": {},
   "source": [
    "# Get Historical Data From Database"
   ]
  },
  {
   "cell_type": "code",
   "execution_count": 5,
   "metadata": {},
   "outputs": [
    {
     "data": {
      "text/html": [
       "<div>\n",
       "<style scoped>\n",
       "    .dataframe tbody tr th:only-of-type {\n",
       "        vertical-align: middle;\n",
       "    }\n",
       "\n",
       "    .dataframe tbody tr th {\n",
       "        vertical-align: top;\n",
       "    }\n",
       "\n",
       "    .dataframe thead th {\n",
       "        text-align: right;\n",
       "    }\n",
       "</style>\n",
       "<table border=\"1\" class=\"dataframe\">\n",
       "  <thead>\n",
       "    <tr style=\"text-align: right;\">\n",
       "      <th></th>\n",
       "      <th>open</th>\n",
       "      <th>high</th>\n",
       "      <th>low</th>\n",
       "      <th>close</th>\n",
       "      <th>volume</th>\n",
       "    </tr>\n",
       "    <tr>\n",
       "      <th>date</th>\n",
       "      <th></th>\n",
       "      <th></th>\n",
       "      <th></th>\n",
       "      <th></th>\n",
       "      <th></th>\n",
       "    </tr>\n",
       "  </thead>\n",
       "  <tbody>\n",
       "    <tr>\n",
       "      <th>2019-07-10 11:00:00</th>\n",
       "      <td>13073.5</td>\n",
       "      <td>13075.5</td>\n",
       "      <td>13044.5</td>\n",
       "      <td>13064.5</td>\n",
       "      <td>4.8952</td>\n",
       "    </tr>\n",
       "    <tr>\n",
       "      <th>2019-07-10 12:00:00</th>\n",
       "      <td>13064.5</td>\n",
       "      <td>13064.5</td>\n",
       "      <td>12900.5</td>\n",
       "      <td>13029.0</td>\n",
       "      <td>684.5329</td>\n",
       "    </tr>\n",
       "    <tr>\n",
       "      <th>2019-07-10 13:00:00</th>\n",
       "      <td>13029.0</td>\n",
       "      <td>13127.5</td>\n",
       "      <td>12996.5</td>\n",
       "      <td>13039.5</td>\n",
       "      <td>812.2584</td>\n",
       "    </tr>\n",
       "    <tr>\n",
       "      <th>2019-07-10 14:00:00</th>\n",
       "      <td>13039.5</td>\n",
       "      <td>13065.5</td>\n",
       "      <td>12549.5</td>\n",
       "      <td>12549.5</td>\n",
       "      <td>679.7040</td>\n",
       "    </tr>\n",
       "    <tr>\n",
       "      <th>2019-07-10 15:00:00</th>\n",
       "      <td>12549.5</td>\n",
       "      <td>12552.0</td>\n",
       "      <td>12121.0</td>\n",
       "      <td>12362.0</td>\n",
       "      <td>715.6550</td>\n",
       "    </tr>\n",
       "    <tr>\n",
       "      <th>...</th>\n",
       "      <td>...</td>\n",
       "      <td>...</td>\n",
       "      <td>...</td>\n",
       "      <td>...</td>\n",
       "      <td>...</td>\n",
       "    </tr>\n",
       "    <tr>\n",
       "      <th>2023-12-28 10:00:00</th>\n",
       "      <td>43062.8</td>\n",
       "      <td>43220.0</td>\n",
       "      <td>43036.0</td>\n",
       "      <td>43129.3</td>\n",
       "      <td>5523.3020</td>\n",
       "    </tr>\n",
       "    <tr>\n",
       "      <th>2023-12-28 11:00:00</th>\n",
       "      <td>43129.3</td>\n",
       "      <td>43172.7</td>\n",
       "      <td>43046.4</td>\n",
       "      <td>43097.3</td>\n",
       "      <td>6491.1240</td>\n",
       "    </tr>\n",
       "    <tr>\n",
       "      <th>2023-12-28 12:00:00</th>\n",
       "      <td>43097.3</td>\n",
       "      <td>43166.0</td>\n",
       "      <td>42762.3</td>\n",
       "      <td>42815.0</td>\n",
       "      <td>7875.1800</td>\n",
       "    </tr>\n",
       "    <tr>\n",
       "      <th>2023-12-28 13:00:00</th>\n",
       "      <td>42815.0</td>\n",
       "      <td>42966.5</td>\n",
       "      <td>42608.0</td>\n",
       "      <td>42819.9</td>\n",
       "      <td>7543.4900</td>\n",
       "    </tr>\n",
       "    <tr>\n",
       "      <th>2023-12-28 14:00:00</th>\n",
       "      <td>42819.9</td>\n",
       "      <td>42855.5</td>\n",
       "      <td>42487.3</td>\n",
       "      <td>42696.0</td>\n",
       "      <td>7699.7350</td>\n",
       "    </tr>\n",
       "  </tbody>\n",
       "</table>\n",
       "<p>39172 rows × 5 columns</p>\n",
       "</div>"
      ],
      "text/plain": [
       "                        open     high      low    close     volume\n",
       "date                                                              \n",
       "2019-07-10 11:00:00  13073.5  13075.5  13044.5  13064.5     4.8952\n",
       "2019-07-10 12:00:00  13064.5  13064.5  12900.5  13029.0   684.5329\n",
       "2019-07-10 13:00:00  13029.0  13127.5  12996.5  13039.5   812.2584\n",
       "2019-07-10 14:00:00  13039.5  13065.5  12549.5  12549.5   679.7040\n",
       "2019-07-10 15:00:00  12549.5  12552.0  12121.0  12362.0   715.6550\n",
       "...                      ...      ...      ...      ...        ...\n",
       "2023-12-28 10:00:00  43062.8  43220.0  43036.0  43129.3  5523.3020\n",
       "2023-12-28 11:00:00  43129.3  43172.7  43046.4  43097.3  6491.1240\n",
       "2023-12-28 12:00:00  43097.3  43166.0  42762.3  42815.0  7875.1800\n",
       "2023-12-28 13:00:00  42815.0  42966.5  42608.0  42819.9  7543.4900\n",
       "2023-12-28 14:00:00  42819.9  42855.5  42487.3  42696.0  7699.7350\n",
       "\n",
       "[39172 rows x 5 columns]"
      ]
     },
     "execution_count": 5,
     "metadata": {},
     "output_type": "execute_result"
    }
   ],
   "source": [
    "exchange_name = \"bitget\"\n",
    "\n",
    "exchange = ExchangeDataManager(\n",
    "    exchange_name=exchange_name, \n",
    "    path_download=\"./database/exchanges\"\n",
    ")\n",
    "\n",
    "df = exchange.load_data(\n",
    "    coin=\"BTC/USDT:USDT\", \n",
    "    interval=\"1h\"\n",
    ")\n",
    "\n",
    "df"
   ]
  },
  {
   "cell_type": "code",
   "execution_count": 6,
   "metadata": {},
   "outputs": [
    {
     "data": {
      "text/html": [
       "<div>\n",
       "<style scoped>\n",
       "    .dataframe tbody tr th:only-of-type {\n",
       "        vertical-align: middle;\n",
       "    }\n",
       "\n",
       "    .dataframe tbody tr th {\n",
       "        vertical-align: top;\n",
       "    }\n",
       "\n",
       "    .dataframe thead th {\n",
       "        text-align: right;\n",
       "    }\n",
       "</style>\n",
       "<table border=\"1\" class=\"dataframe\">\n",
       "  <thead>\n",
       "    <tr style=\"text-align: right;\">\n",
       "      <th></th>\n",
       "      <th>exchange</th>\n",
       "      <th>timeframe</th>\n",
       "      <th>pair</th>\n",
       "      <th>occurences</th>\n",
       "      <th>start_date</th>\n",
       "      <th>end_date</th>\n",
       "    </tr>\n",
       "  </thead>\n",
       "  <tbody>\n",
       "    <tr>\n",
       "      <th>0</th>\n",
       "      <td>bitget</td>\n",
       "      <td>1h</td>\n",
       "      <td>ACH-USDT-USDT</td>\n",
       "      <td>7658</td>\n",
       "      <td>2023-02-28 09:00:00</td>\n",
       "      <td>2023-12-28 16:00:00</td>\n",
       "    </tr>\n",
       "    <tr>\n",
       "      <th>1</th>\n",
       "      <td>bitget</td>\n",
       "      <td>1h</td>\n",
       "      <td>ADA-USDT-USDT</td>\n",
       "      <td>29810</td>\n",
       "      <td>2020-08-19 10:00:00</td>\n",
       "      <td>2023-12-28 16:00:00</td>\n",
       "    </tr>\n",
       "    <tr>\n",
       "      <th>2</th>\n",
       "      <td>bitget</td>\n",
       "      <td>1h</td>\n",
       "      <td>APE-USDT-USDT</td>\n",
       "      <td>15479</td>\n",
       "      <td>2022-04-08 13:00:00</td>\n",
       "      <td>2023-12-28 16:00:00</td>\n",
       "    </tr>\n",
       "    <tr>\n",
       "      <th>3</th>\n",
       "      <td>bitget</td>\n",
       "      <td>1h</td>\n",
       "      <td>AVAX-USDT-USDT</td>\n",
       "      <td>20072</td>\n",
       "      <td>2021-09-29 04:00:00</td>\n",
       "      <td>2023-12-28 16:00:00</td>\n",
       "    </tr>\n",
       "    <tr>\n",
       "      <th>4</th>\n",
       "      <td>bitget</td>\n",
       "      <td>1h</td>\n",
       "      <td>BTC-USDT-USDT</td>\n",
       "      <td>39551</td>\n",
       "      <td>2019-07-10 13:00:00</td>\n",
       "      <td>2023-12-28 16:00:00</td>\n",
       "    </tr>\n",
       "    <tr>\n",
       "      <th>5</th>\n",
       "      <td>bitget</td>\n",
       "      <td>1h</td>\n",
       "      <td>CRV-USDT-USDT</td>\n",
       "      <td>18195</td>\n",
       "      <td>2021-12-16 08:00:00</td>\n",
       "      <td>2023-12-28 16:00:00</td>\n",
       "    </tr>\n",
       "    <tr>\n",
       "      <th>6</th>\n",
       "      <td>bitget</td>\n",
       "      <td>1h</td>\n",
       "      <td>DOGE-USDT-USDT</td>\n",
       "      <td>23212</td>\n",
       "      <td>2021-05-21 08:00:00</td>\n",
       "      <td>2023-12-28 16:00:00</td>\n",
       "    </tr>\n",
       "    <tr>\n",
       "      <th>7</th>\n",
       "      <td>bitget</td>\n",
       "      <td>1h</td>\n",
       "      <td>EGLD-USDT-USDT</td>\n",
       "      <td>18026</td>\n",
       "      <td>2021-12-23 09:00:00</td>\n",
       "      <td>2023-12-28 16:00:00</td>\n",
       "    </tr>\n",
       "    <tr>\n",
       "      <th>8</th>\n",
       "      <td>bitget</td>\n",
       "      <td>1h</td>\n",
       "      <td>ENJ-USDT-USDT</td>\n",
       "      <td>16153</td>\n",
       "      <td>2022-03-11 10:00:00</td>\n",
       "      <td>2023-12-28 16:00:00</td>\n",
       "    </tr>\n",
       "    <tr>\n",
       "      <th>9</th>\n",
       "      <td>bitget</td>\n",
       "      <td>1h</td>\n",
       "      <td>ETH-USDT-USDT</td>\n",
       "      <td>38811</td>\n",
       "      <td>2019-08-10 09:00:00</td>\n",
       "      <td>2023-12-28 16:00:00</td>\n",
       "    </tr>\n",
       "    <tr>\n",
       "      <th>10</th>\n",
       "      <td>bitget</td>\n",
       "      <td>1h</td>\n",
       "      <td>FET-USDT-USDT</td>\n",
       "      <td>7610</td>\n",
       "      <td>2023-03-02 09:00:00</td>\n",
       "      <td>2023-12-28 16:00:00</td>\n",
       "    </tr>\n",
       "    <tr>\n",
       "      <th>11</th>\n",
       "      <td>bitget</td>\n",
       "      <td>1h</td>\n",
       "      <td>ICP-USDT-USDT</td>\n",
       "      <td>23091</td>\n",
       "      <td>2021-05-26 09:00:00</td>\n",
       "      <td>2023-12-28 16:00:00</td>\n",
       "    </tr>\n",
       "    <tr>\n",
       "      <th>12</th>\n",
       "      <td>bitget</td>\n",
       "      <td>1h</td>\n",
       "      <td>IMX-USDT-USDT</td>\n",
       "      <td>13296</td>\n",
       "      <td>2022-07-08 12:00:00</td>\n",
       "      <td>2023-12-28 16:00:00</td>\n",
       "    </tr>\n",
       "    <tr>\n",
       "      <th>13</th>\n",
       "      <td>bitget</td>\n",
       "      <td>1h</td>\n",
       "      <td>KSM-USDT-USDT</td>\n",
       "      <td>17881</td>\n",
       "      <td>2021-12-29 10:00:00</td>\n",
       "      <td>2023-12-28 16:00:00</td>\n",
       "    </tr>\n",
       "    <tr>\n",
       "      <th>14</th>\n",
       "      <td>bitget</td>\n",
       "      <td>1h</td>\n",
       "      <td>LDO-USDT-USDT</td>\n",
       "      <td>7941</td>\n",
       "      <td>2023-02-16 14:00:00</td>\n",
       "      <td>2023-12-28 16:00:00</td>\n",
       "    </tr>\n",
       "    <tr>\n",
       "      <th>15</th>\n",
       "      <td>bitget</td>\n",
       "      <td>1h</td>\n",
       "      <td>MAGIC-USDT-USDT</td>\n",
       "      <td>8188</td>\n",
       "      <td>2023-02-06 07:00:00</td>\n",
       "      <td>2023-12-28 16:00:00</td>\n",
       "    </tr>\n",
       "    <tr>\n",
       "      <th>16</th>\n",
       "      <td>bitget</td>\n",
       "      <td>1h</td>\n",
       "      <td>OCEAN-USDT-USDT</td>\n",
       "      <td>7941</td>\n",
       "      <td>2023-02-16 14:00:00</td>\n",
       "      <td>2023-12-28 16:00:00</td>\n",
       "    </tr>\n",
       "    <tr>\n",
       "      <th>17</th>\n",
       "      <td>bitget</td>\n",
       "      <td>1h</td>\n",
       "      <td>REEF-USDT-USDT</td>\n",
       "      <td>12791</td>\n",
       "      <td>2022-07-29 13:00:00</td>\n",
       "      <td>2023-12-28 16:00:00</td>\n",
       "    </tr>\n",
       "    <tr>\n",
       "      <th>18</th>\n",
       "      <td>bitget</td>\n",
       "      <td>1h</td>\n",
       "      <td>REN-USDT-USDT</td>\n",
       "      <td>17591</td>\n",
       "      <td>2022-01-10 12:00:00</td>\n",
       "      <td>2023-12-28 16:00:00</td>\n",
       "    </tr>\n",
       "    <tr>\n",
       "      <th>19</th>\n",
       "      <td>bitget</td>\n",
       "      <td>1h</td>\n",
       "      <td>SAND-USDT-USDT</td>\n",
       "      <td>18384</td>\n",
       "      <td>2021-12-08 11:00:00</td>\n",
       "      <td>2023-12-28 16:00:00</td>\n",
       "    </tr>\n",
       "    <tr>\n",
       "      <th>20</th>\n",
       "      <td>bitget</td>\n",
       "      <td>1h</td>\n",
       "      <td>TRX-USDT-USDT</td>\n",
       "      <td>29398</td>\n",
       "      <td>2020-08-28 08:00:00</td>\n",
       "      <td>2023-12-28 16:00:00</td>\n",
       "    </tr>\n",
       "    <tr>\n",
       "      <th>21</th>\n",
       "      <td>bitget</td>\n",
       "      <td>1h</td>\n",
       "      <td>XTZ-USDT-USDT</td>\n",
       "      <td>28989</td>\n",
       "      <td>2020-09-14 09:00:00</td>\n",
       "      <td>2023-12-28 16:00:00</td>\n",
       "    </tr>\n",
       "  </tbody>\n",
       "</table>\n",
       "</div>"
      ],
      "text/plain": [
       "   exchange timeframe             pair  occurences           start_date  \\\n",
       "0    bitget        1h    ACH-USDT-USDT        7658  2023-02-28 09:00:00   \n",
       "1    bitget        1h    ADA-USDT-USDT       29810  2020-08-19 10:00:00   \n",
       "2    bitget        1h    APE-USDT-USDT       15479  2022-04-08 13:00:00   \n",
       "3    bitget        1h   AVAX-USDT-USDT       20072  2021-09-29 04:00:00   \n",
       "4    bitget        1h    BTC-USDT-USDT       39551  2019-07-10 13:00:00   \n",
       "5    bitget        1h    CRV-USDT-USDT       18195  2021-12-16 08:00:00   \n",
       "6    bitget        1h   DOGE-USDT-USDT       23212  2021-05-21 08:00:00   \n",
       "7    bitget        1h   EGLD-USDT-USDT       18026  2021-12-23 09:00:00   \n",
       "8    bitget        1h    ENJ-USDT-USDT       16153  2022-03-11 10:00:00   \n",
       "9    bitget        1h    ETH-USDT-USDT       38811  2019-08-10 09:00:00   \n",
       "10   bitget        1h    FET-USDT-USDT        7610  2023-03-02 09:00:00   \n",
       "11   bitget        1h    ICP-USDT-USDT       23091  2021-05-26 09:00:00   \n",
       "12   bitget        1h    IMX-USDT-USDT       13296  2022-07-08 12:00:00   \n",
       "13   bitget        1h    KSM-USDT-USDT       17881  2021-12-29 10:00:00   \n",
       "14   bitget        1h    LDO-USDT-USDT        7941  2023-02-16 14:00:00   \n",
       "15   bitget        1h  MAGIC-USDT-USDT        8188  2023-02-06 07:00:00   \n",
       "16   bitget        1h  OCEAN-USDT-USDT        7941  2023-02-16 14:00:00   \n",
       "17   bitget        1h   REEF-USDT-USDT       12791  2022-07-29 13:00:00   \n",
       "18   bitget        1h    REN-USDT-USDT       17591  2022-01-10 12:00:00   \n",
       "19   bitget        1h   SAND-USDT-USDT       18384  2021-12-08 11:00:00   \n",
       "20   bitget        1h    TRX-USDT-USDT       29398  2020-08-28 08:00:00   \n",
       "21   bitget        1h    XTZ-USDT-USDT       28989  2020-09-14 09:00:00   \n",
       "\n",
       "               end_date  \n",
       "0   2023-12-28 16:00:00  \n",
       "1   2023-12-28 16:00:00  \n",
       "2   2023-12-28 16:00:00  \n",
       "3   2023-12-28 16:00:00  \n",
       "4   2023-12-28 16:00:00  \n",
       "5   2023-12-28 16:00:00  \n",
       "6   2023-12-28 16:00:00  \n",
       "7   2023-12-28 16:00:00  \n",
       "8   2023-12-28 16:00:00  \n",
       "9   2023-12-28 16:00:00  \n",
       "10  2023-12-28 16:00:00  \n",
       "11  2023-12-28 16:00:00  \n",
       "12  2023-12-28 16:00:00  \n",
       "13  2023-12-28 16:00:00  \n",
       "14  2023-12-28 16:00:00  \n",
       "15  2023-12-28 16:00:00  \n",
       "16  2023-12-28 16:00:00  \n",
       "17  2023-12-28 16:00:00  \n",
       "18  2023-12-28 16:00:00  \n",
       "19  2023-12-28 16:00:00  \n",
       "20  2023-12-28 16:00:00  \n",
       "21  2023-12-28 16:00:00  "
      ]
     },
     "execution_count": 6,
     "metadata": {},
     "output_type": "execute_result"
    }
   ],
   "source": [
    "exchange.explore_data()"
   ]
  }
 ],
 "metadata": {
  "kernelspec": {
   "display_name": "Python 3.10.2 ('.venv': venv)",
   "language": "python",
   "name": "python3"
  },
  "language_info": {
   "codemirror_mode": {
    "name": "ipython",
    "version": 3
   },
   "file_extension": ".py",
   "mimetype": "text/x-python",
   "name": "python",
   "nbconvert_exporter": "python",
   "pygments_lexer": "ipython3",
   "version": "3.12.1"
  },
  "vscode": {
   "interpreter": {
    "hash": "d5100c10c6b669a578e86ed43dbb636d25e3c9fb9ee424ec9e5e4bad34e2e434"
   }
  }
 },
 "nbformat": 4,
 "nbformat_minor": 2
}

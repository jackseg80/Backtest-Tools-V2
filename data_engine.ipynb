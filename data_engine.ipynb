{
 "cells": [
  {
   "cell_type": "code",
   "execution_count": 5,
   "metadata": {},
   "outputs": [],
   "source": [
    "import sys\n",
    "sys.path.append('./')\n",
    "from utilities.data_manager import ExchangeDataManager\n",
    "import pandas as pd"
   ]
  },
  {
   "cell_type": "markdown",
   "metadata": {},
   "source": [
    "# Download Historical data into CSV in Database"
   ]
  },
  {
   "cell_type": "code",
   "execution_count": 6,
   "metadata": {},
   "outputs": [
    {
     "name": "stdout",
     "output_type": "stream",
     "text": [
      "\tRécupération pour la paire BTC/USDT:USDT en timeframe 1h sur l'exchange bitget...\n"
     ]
    },
    {
     "data": {
      "application/vnd.jupyter.widget-view+json": {
       "model_id": "9a2e8f6a9c054dd39ee88d8656b8fd30",
       "version_major": 2,
       "version_minor": 0
      },
      "text/plain": [
       "  0%|          | 0/1 [00:00<?, ?it/s]"
      ]
     },
     "metadata": {},
     "output_type": "display_data"
    },
    {
     "name": "stdout",
     "output_type": "stream",
     "text": [
      "\u001b[H\u001b[J\tRécupération pour la paire ETH/USDT:USDT en timeframe 1h sur l'exchange bitget...\n"
     ]
    },
    {
     "data": {
      "application/vnd.jupyter.widget-view+json": {
       "model_id": "965a1cfec91949efbc7e4f622eb96935",
       "version_major": 2,
       "version_minor": 0
      },
      "text/plain": [
       "  0%|          | 0/1 [00:00<?, ?it/s]"
      ]
     },
     "metadata": {},
     "output_type": "display_data"
    },
    {
     "name": "stdout",
     "output_type": "stream",
     "text": [
      "\u001b[H\u001b[J\tRécupération pour la paire ADA/USDT:USDT en timeframe 1h sur l'exchange bitget...\n"
     ]
    },
    {
     "data": {
      "application/vnd.jupyter.widget-view+json": {
       "model_id": "7f670d0857f74752885e88874147fb26",
       "version_major": 2,
       "version_minor": 0
      },
      "text/plain": [
       "  0%|          | 0/1 [00:00<?, ?it/s]"
      ]
     },
     "metadata": {},
     "output_type": "display_data"
    },
    {
     "name": "stdout",
     "output_type": "stream",
     "text": [
      "\u001b[H\u001b[J\tRécupération pour la paire AVAX/USDT:USDT en timeframe 1h sur l'exchange bitget...\n"
     ]
    },
    {
     "data": {
      "application/vnd.jupyter.widget-view+json": {
       "model_id": "a012894df8a94ef9b12994cec505b08d",
       "version_major": 2,
       "version_minor": 0
      },
      "text/plain": [
       "  0%|          | 0/1 [00:00<?, ?it/s]"
      ]
     },
     "metadata": {},
     "output_type": "display_data"
    },
    {
     "name": "stdout",
     "output_type": "stream",
     "text": [
      "\u001b[H\u001b[J\tRécupération pour la paire EGLD/USDT:USDT en timeframe 1h sur l'exchange bitget...\n"
     ]
    },
    {
     "data": {
      "application/vnd.jupyter.widget-view+json": {
       "model_id": "1ffbe589c3614e9e874e08169c6d63a5",
       "version_major": 2,
       "version_minor": 0
      },
      "text/plain": [
       "  0%|          | 0/1 [00:00<?, ?it/s]"
      ]
     },
     "metadata": {},
     "output_type": "display_data"
    },
    {
     "name": "stdout",
     "output_type": "stream",
     "text": [
      "\u001b[H\u001b[J\tRécupération pour la paire KSM/USDT:USDT en timeframe 1h sur l'exchange bitget...\n"
     ]
    },
    {
     "data": {
      "application/vnd.jupyter.widget-view+json": {
       "model_id": "c239a58321b94a33b7431e12b3c8dfd7",
       "version_major": 2,
       "version_minor": 0
      },
      "text/plain": [
       "  0%|          | 0/1 [00:00<?, ?it/s]"
      ]
     },
     "metadata": {},
     "output_type": "display_data"
    },
    {
     "name": "stdout",
     "output_type": "stream",
     "text": [
      "\u001b[H\u001b[J\tRécupération pour la paire OCEAN/USDT:USDT en timeframe 1h sur l'exchange bitget...\n"
     ]
    },
    {
     "data": {
      "application/vnd.jupyter.widget-view+json": {
       "model_id": "d11753a0c534423fa75da559af801175",
       "version_major": 2,
       "version_minor": 0
      },
      "text/plain": [
       "  0%|          | 0/1 [00:00<?, ?it/s]"
      ]
     },
     "metadata": {},
     "output_type": "display_data"
    },
    {
     "name": "stdout",
     "output_type": "stream",
     "text": [
      "\u001b[H\u001b[J\tRécupération pour la paire REN/USDT:USDT en timeframe 1h sur l'exchange bitget...\n"
     ]
    },
    {
     "data": {
      "application/vnd.jupyter.widget-view+json": {
       "model_id": "b39cee8f7d6849fe822a97aa5592ef7c",
       "version_major": 2,
       "version_minor": 0
      },
      "text/plain": [
       "  0%|          | 0/1 [00:00<?, ?it/s]"
      ]
     },
     "metadata": {},
     "output_type": "display_data"
    },
    {
     "name": "stdout",
     "output_type": "stream",
     "text": [
      "\u001b[H\u001b[J\tRécupération pour la paire ACH/USDT:USDT en timeframe 1h sur l'exchange bitget...\n"
     ]
    },
    {
     "data": {
      "application/vnd.jupyter.widget-view+json": {
       "model_id": "13d8d490bfda4b7aa03fc23faeb84b46",
       "version_major": 2,
       "version_minor": 0
      },
      "text/plain": [
       "  0%|          | 0/1 [00:00<?, ?it/s]"
      ]
     },
     "metadata": {},
     "output_type": "display_data"
    },
    {
     "name": "stdout",
     "output_type": "stream",
     "text": [
      "\u001b[H\u001b[J\tRécupération pour la paire APE/USDT:USDT en timeframe 1h sur l'exchange bitget...\n"
     ]
    },
    {
     "data": {
      "application/vnd.jupyter.widget-view+json": {
       "model_id": "9cc405d2529a429da814fb67c0d86394",
       "version_major": 2,
       "version_minor": 0
      },
      "text/plain": [
       "  0%|          | 0/1 [00:00<?, ?it/s]"
      ]
     },
     "metadata": {},
     "output_type": "display_data"
    },
    {
     "name": "stdout",
     "output_type": "stream",
     "text": [
      "\u001b[H\u001b[J\tRécupération pour la paire CRV/USDT:USDT en timeframe 1h sur l'exchange bitget...\n"
     ]
    },
    {
     "data": {
      "application/vnd.jupyter.widget-view+json": {
       "model_id": "266676095e764b61b8bdaf14cb54eecb",
       "version_major": 2,
       "version_minor": 0
      },
      "text/plain": [
       "  0%|          | 0/1 [00:00<?, ?it/s]"
      ]
     },
     "metadata": {},
     "output_type": "display_data"
    },
    {
     "name": "stdout",
     "output_type": "stream",
     "text": [
      "\u001b[H\u001b[J\tRécupération pour la paire DOGE/USDT:USDT en timeframe 1h sur l'exchange bitget...\n"
     ]
    },
    {
     "data": {
      "application/vnd.jupyter.widget-view+json": {
       "model_id": "772f4d9951504289a62f71294de59ce9",
       "version_major": 2,
       "version_minor": 0
      },
      "text/plain": [
       "  0%|          | 0/1 [00:00<?, ?it/s]"
      ]
     },
     "metadata": {},
     "output_type": "display_data"
    },
    {
     "name": "stdout",
     "output_type": "stream",
     "text": [
      "\u001b[H\u001b[J\tRécupération pour la paire ENJ/USDT:USDT en timeframe 1h sur l'exchange bitget...\n"
     ]
    },
    {
     "data": {
      "application/vnd.jupyter.widget-view+json": {
       "model_id": "14464f9d2fb14cda8c2deb5191a8e5a0",
       "version_major": 2,
       "version_minor": 0
      },
      "text/plain": [
       "  0%|          | 0/1 [00:00<?, ?it/s]"
      ]
     },
     "metadata": {},
     "output_type": "display_data"
    },
    {
     "name": "stdout",
     "output_type": "stream",
     "text": [
      "\u001b[H\u001b[J\tRécupération pour la paire FET/USDT:USDT en timeframe 1h sur l'exchange bitget...\n"
     ]
    },
    {
     "data": {
      "application/vnd.jupyter.widget-view+json": {
       "model_id": "b0a59324dc9a42cfa24d64e22d838aa2",
       "version_major": 2,
       "version_minor": 0
      },
      "text/plain": [
       "  0%|          | 0/1 [00:00<?, ?it/s]"
      ]
     },
     "metadata": {},
     "output_type": "display_data"
    },
    {
     "name": "stdout",
     "output_type": "stream",
     "text": [
      "\u001b[H\u001b[J\tRécupération pour la paire ICP/USDT:USDT en timeframe 1h sur l'exchange bitget...\n"
     ]
    },
    {
     "data": {
      "application/vnd.jupyter.widget-view+json": {
       "model_id": "02c716430fec4ddc8652c3f01420b1dd",
       "version_major": 2,
       "version_minor": 0
      },
      "text/plain": [
       "  0%|          | 0/1 [00:00<?, ?it/s]"
      ]
     },
     "metadata": {},
     "output_type": "display_data"
    },
    {
     "name": "stdout",
     "output_type": "stream",
     "text": [
      "\u001b[H\u001b[J\tRécupération pour la paire IMX/USDT:USDT en timeframe 1h sur l'exchange bitget...\n"
     ]
    },
    {
     "data": {
      "application/vnd.jupyter.widget-view+json": {
       "model_id": "d47964d0cff84867b80201fc2ecd0f62",
       "version_major": 2,
       "version_minor": 0
      },
      "text/plain": [
       "  0%|          | 0/1 [00:00<?, ?it/s]"
      ]
     },
     "metadata": {},
     "output_type": "display_data"
    },
    {
     "name": "stdout",
     "output_type": "stream",
     "text": [
      "\u001b[H\u001b[J\tRécupération pour la paire LDO/USDT:USDT en timeframe 1h sur l'exchange bitget...\n"
     ]
    },
    {
     "data": {
      "application/vnd.jupyter.widget-view+json": {
       "model_id": "d96da32805ec48258a03e2997a9765c8",
       "version_major": 2,
       "version_minor": 0
      },
      "text/plain": [
       "  0%|          | 0/1 [00:00<?, ?it/s]"
      ]
     },
     "metadata": {},
     "output_type": "display_data"
    },
    {
     "name": "stdout",
     "output_type": "stream",
     "text": [
      "\u001b[H\u001b[J\tRécupération pour la paire MAGIC/USDT:USDT en timeframe 1h sur l'exchange bitget...\n"
     ]
    },
    {
     "data": {
      "application/vnd.jupyter.widget-view+json": {
       "model_id": "cd6fbfaea3fd475aab068a09baf0d701",
       "version_major": 2,
       "version_minor": 0
      },
      "text/plain": [
       "  0%|          | 0/1 [00:00<?, ?it/s]"
      ]
     },
     "metadata": {},
     "output_type": "display_data"
    },
    {
     "name": "stdout",
     "output_type": "stream",
     "text": [
      "\u001b[H\u001b[J\tRécupération pour la paire REEF/USDT:USDT en timeframe 1h sur l'exchange bitget...\n"
     ]
    },
    {
     "data": {
      "application/vnd.jupyter.widget-view+json": {
       "model_id": "f569d537c978494eaa1ba92995fac11a",
       "version_major": 2,
       "version_minor": 0
      },
      "text/plain": [
       "  0%|          | 0/1 [00:00<?, ?it/s]"
      ]
     },
     "metadata": {},
     "output_type": "display_data"
    },
    {
     "name": "stdout",
     "output_type": "stream",
     "text": [
      "\u001b[H\u001b[J\tRécupération pour la paire SAND/USDT:USDT en timeframe 1h sur l'exchange bitget...\n"
     ]
    },
    {
     "data": {
      "application/vnd.jupyter.widget-view+json": {
       "model_id": "8e8bcc4cce5e4520afc032428680b38a",
       "version_major": 2,
       "version_minor": 0
      },
      "text/plain": [
       "  0%|          | 0/1 [00:00<?, ?it/s]"
      ]
     },
     "metadata": {},
     "output_type": "display_data"
    },
    {
     "name": "stdout",
     "output_type": "stream",
     "text": [
      "\u001b[H\u001b[J\tRécupération pour la paire TRX/USDT:USDT en timeframe 1h sur l'exchange bitget...\n"
     ]
    },
    {
     "data": {
      "application/vnd.jupyter.widget-view+json": {
       "model_id": "bc6d96539eb84d5c82102d35a7db2078",
       "version_major": 2,
       "version_minor": 0
      },
      "text/plain": [
       "  0%|          | 0/1 [00:00<?, ?it/s]"
      ]
     },
     "metadata": {},
     "output_type": "display_data"
    },
    {
     "name": "stdout",
     "output_type": "stream",
     "text": [
      "\u001b[H\u001b[J\tRécupération pour la paire XTZ/USDT:USDT en timeframe 1h sur l'exchange bitget...\n"
     ]
    },
    {
     "data": {
      "application/vnd.jupyter.widget-view+json": {
       "model_id": "4c56cd2eeeed46e798bdc07dc56c36bd",
       "version_major": 2,
       "version_minor": 0
      },
      "text/plain": [
       "  0%|          | 0/1 [00:00<?, ?it/s]"
      ]
     },
     "metadata": {},
     "output_type": "display_data"
    },
    {
     "name": "stdout",
     "output_type": "stream",
     "text": [
      "\u001b[H\u001b[J"
     ]
    }
   ],
   "source": [
    "exchange_name = \"bitget\"\n",
    "\n",
    "intervals = [\"1h\"]\n",
    "\n",
    "coin_to_dl = [\n",
    "    \"BTC/USDT:USDT\", \"ETH/USDT:USDT\", \"ADA/USDT:USDT\", \"AVAX/USDT:USDT\", \"EGLD/USDT:USDT\",\n",
    "    \"KSM/USDT:USDT\", \"OCEAN/USDT:USDT\", \"REN/USDT:USDT\", \"ACH/USDT:USDT\", \"APE/USDT:USDT\",\n",
    "    \"CRV/USDT:USDT\", \"DOGE/USDT:USDT\", \"ENJ/USDT:USDT\", \"FET/USDT:USDT\", \"ICP/USDT:USDT\",\n",
    "    \"IMX/USDT:USDT\", \"LDO/USDT:USDT\", \"MAGIC/USDT:USDT\", \"REEF/USDT:USDT\", \"SAND/USDT:USDT\",\n",
    "    \"TRX/USDT:USDT\",\"XTZ/USDT:USDT\",\n",
    "]\n",
    "\n",
    "exchange = ExchangeDataManager(\n",
    "    exchange_name=exchange_name, path_download=\"./database/exchanges\"\n",
    ")\n",
    "\n",
    "await exchange.download_data(\n",
    "    coins=coin_to_dl,\n",
    "    intervals=intervals,\n",
    ")"
   ]
  },
  {
   "cell_type": "markdown",
   "metadata": {},
   "source": [
    "# Get Historical Data From Database"
   ]
  },
  {
   "cell_type": "code",
   "execution_count": 3,
   "metadata": {},
   "outputs": [
    {
     "data": {
      "text/html": [
       "<div>\n",
       "<style scoped>\n",
       "    .dataframe tbody tr th:only-of-type {\n",
       "        vertical-align: middle;\n",
       "    }\n",
       "\n",
       "    .dataframe tbody tr th {\n",
       "        vertical-align: top;\n",
       "    }\n",
       "\n",
       "    .dataframe thead th {\n",
       "        text-align: right;\n",
       "    }\n",
       "</style>\n",
       "<table border=\"1\" class=\"dataframe\">\n",
       "  <thead>\n",
       "    <tr style=\"text-align: right;\">\n",
       "      <th></th>\n",
       "      <th>open</th>\n",
       "      <th>high</th>\n",
       "      <th>low</th>\n",
       "      <th>close</th>\n",
       "      <th>volume</th>\n",
       "    </tr>\n",
       "    <tr>\n",
       "      <th>date</th>\n",
       "      <th></th>\n",
       "      <th></th>\n",
       "      <th></th>\n",
       "      <th></th>\n",
       "      <th></th>\n",
       "    </tr>\n",
       "  </thead>\n",
       "  <tbody>\n",
       "    <tr>\n",
       "      <th>2019-07-10 11:00:00</th>\n",
       "      <td>13073.5</td>\n",
       "      <td>13075.5</td>\n",
       "      <td>13044.5</td>\n",
       "      <td>13064.5</td>\n",
       "      <td>4.8952</td>\n",
       "    </tr>\n",
       "    <tr>\n",
       "      <th>2019-07-10 12:00:00</th>\n",
       "      <td>13064.5</td>\n",
       "      <td>13064.5</td>\n",
       "      <td>12900.5</td>\n",
       "      <td>13029.0</td>\n",
       "      <td>684.5329</td>\n",
       "    </tr>\n",
       "    <tr>\n",
       "      <th>2019-07-10 13:00:00</th>\n",
       "      <td>13029.0</td>\n",
       "      <td>13127.5</td>\n",
       "      <td>12996.5</td>\n",
       "      <td>13039.5</td>\n",
       "      <td>812.2584</td>\n",
       "    </tr>\n",
       "    <tr>\n",
       "      <th>2019-07-10 14:00:00</th>\n",
       "      <td>13039.5</td>\n",
       "      <td>13065.5</td>\n",
       "      <td>12549.5</td>\n",
       "      <td>12549.5</td>\n",
       "      <td>679.7040</td>\n",
       "    </tr>\n",
       "    <tr>\n",
       "      <th>2019-07-10 15:00:00</th>\n",
       "      <td>12549.5</td>\n",
       "      <td>12552.0</td>\n",
       "      <td>12121.0</td>\n",
       "      <td>12362.0</td>\n",
       "      <td>715.6550</td>\n",
       "    </tr>\n",
       "    <tr>\n",
       "      <th>...</th>\n",
       "      <td>...</td>\n",
       "      <td>...</td>\n",
       "      <td>...</td>\n",
       "      <td>...</td>\n",
       "      <td>...</td>\n",
       "    </tr>\n",
       "    <tr>\n",
       "      <th>2023-12-30 14:00:00</th>\n",
       "      <td>42050.8</td>\n",
       "      <td>42282.7</td>\n",
       "      <td>42050.7</td>\n",
       "      <td>42257.4</td>\n",
       "      <td>7379.1100</td>\n",
       "    </tr>\n",
       "    <tr>\n",
       "      <th>2023-12-30 15:00:00</th>\n",
       "      <td>42257.4</td>\n",
       "      <td>42449.4</td>\n",
       "      <td>42198.3</td>\n",
       "      <td>42394.4</td>\n",
       "      <td>6406.9490</td>\n",
       "    </tr>\n",
       "    <tr>\n",
       "      <th>2023-12-30 16:00:00</th>\n",
       "      <td>42394.4</td>\n",
       "      <td>42622.6</td>\n",
       "      <td>42394.4</td>\n",
       "      <td>42423.7</td>\n",
       "      <td>5847.7660</td>\n",
       "    </tr>\n",
       "    <tr>\n",
       "      <th>2023-12-30 17:00:00</th>\n",
       "      <td>42423.7</td>\n",
       "      <td>42638.9</td>\n",
       "      <td>42266.0</td>\n",
       "      <td>42516.6</td>\n",
       "      <td>8461.7760</td>\n",
       "    </tr>\n",
       "    <tr>\n",
       "      <th>2023-12-30 18:00:00</th>\n",
       "      <td>42516.6</td>\n",
       "      <td>42532.0</td>\n",
       "      <td>42356.7</td>\n",
       "      <td>42434.1</td>\n",
       "      <td>5342.2110</td>\n",
       "    </tr>\n",
       "  </tbody>\n",
       "</table>\n",
       "<p>39224 rows × 5 columns</p>\n",
       "</div>"
      ],
      "text/plain": [
       "                        open     high      low    close     volume\n",
       "date                                                              \n",
       "2019-07-10 11:00:00  13073.5  13075.5  13044.5  13064.5     4.8952\n",
       "2019-07-10 12:00:00  13064.5  13064.5  12900.5  13029.0   684.5329\n",
       "2019-07-10 13:00:00  13029.0  13127.5  12996.5  13039.5   812.2584\n",
       "2019-07-10 14:00:00  13039.5  13065.5  12549.5  12549.5   679.7040\n",
       "2019-07-10 15:00:00  12549.5  12552.0  12121.0  12362.0   715.6550\n",
       "...                      ...      ...      ...      ...        ...\n",
       "2023-12-30 14:00:00  42050.8  42282.7  42050.7  42257.4  7379.1100\n",
       "2023-12-30 15:00:00  42257.4  42449.4  42198.3  42394.4  6406.9490\n",
       "2023-12-30 16:00:00  42394.4  42622.6  42394.4  42423.7  5847.7660\n",
       "2023-12-30 17:00:00  42423.7  42638.9  42266.0  42516.6  8461.7760\n",
       "2023-12-30 18:00:00  42516.6  42532.0  42356.7  42434.1  5342.2110\n",
       "\n",
       "[39224 rows x 5 columns]"
      ]
     },
     "execution_count": 3,
     "metadata": {},
     "output_type": "execute_result"
    }
   ],
   "source": [
    "exchange_name = \"bitget\"\n",
    "\n",
    "exchange = ExchangeDataManager(\n",
    "    exchange_name=exchange_name, \n",
    "    path_download=\"./database/exchanges\"\n",
    ")\n",
    "\n",
    "df = exchange.load_data(\n",
    "    coin=\"BTC/USDT:USDT\", \n",
    "    interval=\"1h\"\n",
    ")\n",
    "\n",
    "df"
   ]
  },
  {
   "cell_type": "code",
   "execution_count": 4,
   "metadata": {},
   "outputs": [
    {
     "data": {
      "text/html": [
       "<div>\n",
       "<style scoped>\n",
       "    .dataframe tbody tr th:only-of-type {\n",
       "        vertical-align: middle;\n",
       "    }\n",
       "\n",
       "    .dataframe tbody tr th {\n",
       "        vertical-align: top;\n",
       "    }\n",
       "\n",
       "    .dataframe thead th {\n",
       "        text-align: right;\n",
       "    }\n",
       "</style>\n",
       "<table border=\"1\" class=\"dataframe\">\n",
       "  <thead>\n",
       "    <tr style=\"text-align: right;\">\n",
       "      <th></th>\n",
       "      <th>exchange</th>\n",
       "      <th>timeframe</th>\n",
       "      <th>pair</th>\n",
       "      <th>occurences</th>\n",
       "      <th>start_date</th>\n",
       "      <th>end_date</th>\n",
       "    </tr>\n",
       "  </thead>\n",
       "  <tbody>\n",
       "    <tr>\n",
       "      <th>0</th>\n",
       "      <td>bitget</td>\n",
       "      <td>1h</td>\n",
       "      <td>ACH-USDT-USDT</td>\n",
       "      <td>7857</td>\n",
       "      <td>2023-02-28 09:00:00</td>\n",
       "      <td>2023-12-30 20:00:00</td>\n",
       "    </tr>\n",
       "    <tr>\n",
       "      <th>1</th>\n",
       "      <td>bitget</td>\n",
       "      <td>1h</td>\n",
       "      <td>ADA-USDT-USDT</td>\n",
       "      <td>30009</td>\n",
       "      <td>2020-08-19 10:00:00</td>\n",
       "      <td>2023-12-30 20:00:00</td>\n",
       "    </tr>\n",
       "    <tr>\n",
       "      <th>2</th>\n",
       "      <td>bitget</td>\n",
       "      <td>1h</td>\n",
       "      <td>APE-USDT-USDT</td>\n",
       "      <td>15678</td>\n",
       "      <td>2022-04-08 13:00:00</td>\n",
       "      <td>2023-12-30 20:00:00</td>\n",
       "    </tr>\n",
       "    <tr>\n",
       "      <th>3</th>\n",
       "      <td>bitget</td>\n",
       "      <td>1h</td>\n",
       "      <td>AVAX-USDT-USDT</td>\n",
       "      <td>20271</td>\n",
       "      <td>2021-09-29 04:00:00</td>\n",
       "      <td>2023-12-30 20:00:00</td>\n",
       "    </tr>\n",
       "    <tr>\n",
       "      <th>4</th>\n",
       "      <td>bitget</td>\n",
       "      <td>1h</td>\n",
       "      <td>BTC-USDT-USDT</td>\n",
       "      <td>39750</td>\n",
       "      <td>2019-07-10 13:00:00</td>\n",
       "      <td>2023-12-30 20:00:00</td>\n",
       "    </tr>\n",
       "    <tr>\n",
       "      <th>5</th>\n",
       "      <td>bitget</td>\n",
       "      <td>1h</td>\n",
       "      <td>CRV-USDT-USDT</td>\n",
       "      <td>18394</td>\n",
       "      <td>2021-12-16 08:00:00</td>\n",
       "      <td>2023-12-30 20:00:00</td>\n",
       "    </tr>\n",
       "    <tr>\n",
       "      <th>6</th>\n",
       "      <td>bitget</td>\n",
       "      <td>1h</td>\n",
       "      <td>DOGE-USDT-USDT</td>\n",
       "      <td>23411</td>\n",
       "      <td>2021-05-21 08:00:00</td>\n",
       "      <td>2023-12-30 20:00:00</td>\n",
       "    </tr>\n",
       "    <tr>\n",
       "      <th>7</th>\n",
       "      <td>bitget</td>\n",
       "      <td>1h</td>\n",
       "      <td>EGLD-USDT-USDT</td>\n",
       "      <td>18225</td>\n",
       "      <td>2021-12-23 09:00:00</td>\n",
       "      <td>2023-12-30 20:00:00</td>\n",
       "    </tr>\n",
       "    <tr>\n",
       "      <th>8</th>\n",
       "      <td>bitget</td>\n",
       "      <td>1h</td>\n",
       "      <td>ENJ-USDT-USDT</td>\n",
       "      <td>16352</td>\n",
       "      <td>2022-03-11 10:00:00</td>\n",
       "      <td>2023-12-30 20:00:00</td>\n",
       "    </tr>\n",
       "    <tr>\n",
       "      <th>9</th>\n",
       "      <td>bitget</td>\n",
       "      <td>1h</td>\n",
       "      <td>ETH-USDT-USDT</td>\n",
       "      <td>39010</td>\n",
       "      <td>2019-08-10 09:00:00</td>\n",
       "      <td>2023-12-30 20:00:00</td>\n",
       "    </tr>\n",
       "    <tr>\n",
       "      <th>10</th>\n",
       "      <td>bitget</td>\n",
       "      <td>1h</td>\n",
       "      <td>FET-USDT-USDT</td>\n",
       "      <td>7809</td>\n",
       "      <td>2023-03-02 09:00:00</td>\n",
       "      <td>2023-12-30 20:00:00</td>\n",
       "    </tr>\n",
       "    <tr>\n",
       "      <th>11</th>\n",
       "      <td>bitget</td>\n",
       "      <td>1h</td>\n",
       "      <td>ICP-USDT-USDT</td>\n",
       "      <td>23290</td>\n",
       "      <td>2021-05-26 09:00:00</td>\n",
       "      <td>2023-12-30 20:00:00</td>\n",
       "    </tr>\n",
       "    <tr>\n",
       "      <th>12</th>\n",
       "      <td>bitget</td>\n",
       "      <td>1h</td>\n",
       "      <td>IMX-USDT-USDT</td>\n",
       "      <td>13495</td>\n",
       "      <td>2022-07-08 12:00:00</td>\n",
       "      <td>2023-12-30 20:00:00</td>\n",
       "    </tr>\n",
       "    <tr>\n",
       "      <th>13</th>\n",
       "      <td>bitget</td>\n",
       "      <td>1h</td>\n",
       "      <td>KSM-USDT-USDT</td>\n",
       "      <td>18080</td>\n",
       "      <td>2021-12-29 10:00:00</td>\n",
       "      <td>2023-12-30 20:00:00</td>\n",
       "    </tr>\n",
       "    <tr>\n",
       "      <th>14</th>\n",
       "      <td>bitget</td>\n",
       "      <td>1h</td>\n",
       "      <td>LDO-USDT-USDT</td>\n",
       "      <td>8140</td>\n",
       "      <td>2023-02-16 14:00:00</td>\n",
       "      <td>2023-12-30 20:00:00</td>\n",
       "    </tr>\n",
       "    <tr>\n",
       "      <th>15</th>\n",
       "      <td>bitget</td>\n",
       "      <td>1h</td>\n",
       "      <td>MAGIC-USDT-USDT</td>\n",
       "      <td>8387</td>\n",
       "      <td>2023-02-06 07:00:00</td>\n",
       "      <td>2023-12-30 20:00:00</td>\n",
       "    </tr>\n",
       "    <tr>\n",
       "      <th>16</th>\n",
       "      <td>bitget</td>\n",
       "      <td>1h</td>\n",
       "      <td>OCEAN-USDT-USDT</td>\n",
       "      <td>8140</td>\n",
       "      <td>2023-02-16 14:00:00</td>\n",
       "      <td>2023-12-30 20:00:00</td>\n",
       "    </tr>\n",
       "    <tr>\n",
       "      <th>17</th>\n",
       "      <td>bitget</td>\n",
       "      <td>1h</td>\n",
       "      <td>REEF-USDT-USDT</td>\n",
       "      <td>12990</td>\n",
       "      <td>2022-07-29 13:00:00</td>\n",
       "      <td>2023-12-30 20:00:00</td>\n",
       "    </tr>\n",
       "    <tr>\n",
       "      <th>18</th>\n",
       "      <td>bitget</td>\n",
       "      <td>1h</td>\n",
       "      <td>REN-USDT-USDT</td>\n",
       "      <td>17790</td>\n",
       "      <td>2022-01-10 12:00:00</td>\n",
       "      <td>2023-12-30 20:00:00</td>\n",
       "    </tr>\n",
       "    <tr>\n",
       "      <th>19</th>\n",
       "      <td>bitget</td>\n",
       "      <td>1h</td>\n",
       "      <td>SAND-USDT-USDT</td>\n",
       "      <td>18583</td>\n",
       "      <td>2021-12-08 11:00:00</td>\n",
       "      <td>2023-12-30 20:00:00</td>\n",
       "    </tr>\n",
       "    <tr>\n",
       "      <th>20</th>\n",
       "      <td>bitget</td>\n",
       "      <td>1h</td>\n",
       "      <td>TRX-USDT-USDT</td>\n",
       "      <td>29597</td>\n",
       "      <td>2020-08-28 08:00:00</td>\n",
       "      <td>2023-12-30 20:00:00</td>\n",
       "    </tr>\n",
       "    <tr>\n",
       "      <th>21</th>\n",
       "      <td>bitget</td>\n",
       "      <td>1h</td>\n",
       "      <td>XTZ-USDT-USDT</td>\n",
       "      <td>29188</td>\n",
       "      <td>2020-09-14 09:00:00</td>\n",
       "      <td>2023-12-30 20:00:00</td>\n",
       "    </tr>\n",
       "  </tbody>\n",
       "</table>\n",
       "</div>"
      ],
      "text/plain": [
       "   exchange timeframe             pair  occurences           start_date  \\\n",
       "0    bitget        1h    ACH-USDT-USDT        7857  2023-02-28 09:00:00   \n",
       "1    bitget        1h    ADA-USDT-USDT       30009  2020-08-19 10:00:00   \n",
       "2    bitget        1h    APE-USDT-USDT       15678  2022-04-08 13:00:00   \n",
       "3    bitget        1h   AVAX-USDT-USDT       20271  2021-09-29 04:00:00   \n",
       "4    bitget        1h    BTC-USDT-USDT       39750  2019-07-10 13:00:00   \n",
       "5    bitget        1h    CRV-USDT-USDT       18394  2021-12-16 08:00:00   \n",
       "6    bitget        1h   DOGE-USDT-USDT       23411  2021-05-21 08:00:00   \n",
       "7    bitget        1h   EGLD-USDT-USDT       18225  2021-12-23 09:00:00   \n",
       "8    bitget        1h    ENJ-USDT-USDT       16352  2022-03-11 10:00:00   \n",
       "9    bitget        1h    ETH-USDT-USDT       39010  2019-08-10 09:00:00   \n",
       "10   bitget        1h    FET-USDT-USDT        7809  2023-03-02 09:00:00   \n",
       "11   bitget        1h    ICP-USDT-USDT       23290  2021-05-26 09:00:00   \n",
       "12   bitget        1h    IMX-USDT-USDT       13495  2022-07-08 12:00:00   \n",
       "13   bitget        1h    KSM-USDT-USDT       18080  2021-12-29 10:00:00   \n",
       "14   bitget        1h    LDO-USDT-USDT        8140  2023-02-16 14:00:00   \n",
       "15   bitget        1h  MAGIC-USDT-USDT        8387  2023-02-06 07:00:00   \n",
       "16   bitget        1h  OCEAN-USDT-USDT        8140  2023-02-16 14:00:00   \n",
       "17   bitget        1h   REEF-USDT-USDT       12990  2022-07-29 13:00:00   \n",
       "18   bitget        1h    REN-USDT-USDT       17790  2022-01-10 12:00:00   \n",
       "19   bitget        1h   SAND-USDT-USDT       18583  2021-12-08 11:00:00   \n",
       "20   bitget        1h    TRX-USDT-USDT       29597  2020-08-28 08:00:00   \n",
       "21   bitget        1h    XTZ-USDT-USDT       29188  2020-09-14 09:00:00   \n",
       "\n",
       "               end_date  \n",
       "0   2023-12-30 20:00:00  \n",
       "1   2023-12-30 20:00:00  \n",
       "2   2023-12-30 20:00:00  \n",
       "3   2023-12-30 20:00:00  \n",
       "4   2023-12-30 20:00:00  \n",
       "5   2023-12-30 20:00:00  \n",
       "6   2023-12-30 20:00:00  \n",
       "7   2023-12-30 20:00:00  \n",
       "8   2023-12-30 20:00:00  \n",
       "9   2023-12-30 20:00:00  \n",
       "10  2023-12-30 20:00:00  \n",
       "11  2023-12-30 20:00:00  \n",
       "12  2023-12-30 20:00:00  \n",
       "13  2023-12-30 20:00:00  \n",
       "14  2023-12-30 20:00:00  \n",
       "15  2023-12-30 20:00:00  \n",
       "16  2023-12-30 20:00:00  \n",
       "17  2023-12-30 20:00:00  \n",
       "18  2023-12-30 20:00:00  \n",
       "19  2023-12-30 20:00:00  \n",
       "20  2023-12-30 20:00:00  \n",
       "21  2023-12-30 20:00:00  "
      ]
     },
     "execution_count": 4,
     "metadata": {},
     "output_type": "execute_result"
    }
   ],
   "source": [
    "exchange.explore_data()"
   ]
  }
 ],
 "metadata": {
  "kernelspec": {
   "display_name": "Python 3.10.2 ('.venv': venv)",
   "language": "python",
   "name": "python3"
  },
  "language_info": {
   "codemirror_mode": {
    "name": "ipython",
    "version": 3
   },
   "file_extension": ".py",
   "mimetype": "text/x-python",
   "name": "python",
   "nbconvert_exporter": "python",
   "pygments_lexer": "ipython3",
   "version": "3.12.1"
  },
  "vscode": {
   "interpreter": {
    "hash": "d5100c10c6b669a578e86ed43dbb636d25e3c9fb9ee424ec9e5e4bad34e2e434"
   }
  }
 },
 "nbformat": 4,
 "nbformat_minor": 2
}

{
 "cells": [
  {
   "cell_type": "code",
   "execution_count": 3,
   "metadata": {},
   "outputs": [],
   "source": [
    "import tkinter as tk\n",
    "import sys\n",
    "import subprocess\n",
    "import customtkinter\n",
    "\n",
    "class ConsoleRedirector:\n",
    "    def __init__(self, widget):\n",
    "        self.widget = widget\n",
    "\n",
    "    def write(self, text):\n",
    "        self.widget.insert(tk.END, text)\n",
    "        self.widget.see(tk.END)  # Auto-scroll to the bottom\n",
    "\n",
    "def run_script():\n",
    "    # Run your script or command\n",
    "    script_path = \"test.py\"  # Replace with your script path\n",
    "    process = subprocess.Popen([\"python\", script_path], stdout=subprocess.PIPE, stderr=subprocess.PIPE, text=True)\n",
    "\n",
    "    # Redirect stdout and stderr to the console widget\n",
    "    sys.stdout = ConsoleRedirector(console_text)\n",
    "    sys.stderr = ConsoleRedirector(console_text)\n",
    "\n",
    "    # Capture and display the output\n",
    "    for line in process.stdout:\n",
    "        print(line, end=\"\")\n",
    "    for line in process.stderr:\n",
    "        print(line, end=\"\")\n",
    "\n",
    "    # Restore stdout and stderr\n",
    "    sys.stdout = sys.__stdout__\n",
    "    sys.stderr = sys.__stderr__\n",
    "\n",
    "customtkinter.set_appearance_mode(\"dark\")\n",
    "customtkinter.set_default_color_theme(\"dark-blue\")\n",
    "\n",
    "root = customtkinter.CTk()\n",
    "root.geometry(\"1280x720\")\n",
    "\n",
    "frame = customtkinter.CTkFrame(master=root)\n",
    "frame.pack(pady=10, padx=10, fill=\"both\", expand=True)\n",
    "\n",
    "# Create a scrolled text widget for displaying the console output\n",
    "console_text = customtkinter.CTkTextbox(frame, wrap=tk.WORD, width=500, height=500)\n",
    "console_text.pack(anchor=\"center\", pady=10, padx=10) #Anchor the console box to the middle of the screen and add some padding\n",
    "console_text.configure(scrollbar_button_color=\"\", scrollbar_button_hover_color=\"\") #Make scroll-bar invisible\n",
    "font_spec = (\"Cascadia Code\", 12)  # Font family and size\n",
    "\n",
    "# Create a button to run the script\n",
    "run_button = tk.Button(root, text=\"Run Script\", command=run_script)\n",
    "run_button.pack()\n",
    "\n",
    "# Start the Tkinter event loop\n",
    "root.mainloop()"
   ]
  }
 ],
 "metadata": {
  "kernelspec": {
   "display_name": ".venv",
   "language": "python",
   "name": "python3"
  },
  "language_info": {
   "codemirror_mode": {
    "name": "ipython",
    "version": 3
   },
   "file_extension": ".py",
   "mimetype": "text/x-python",
   "name": "python",
   "nbconvert_exporter": "python",
   "pygments_lexer": "ipython3",
   "version": "3.12.1"
  }
 },
 "nbformat": 4,
 "nbformat_minor": 2
}
